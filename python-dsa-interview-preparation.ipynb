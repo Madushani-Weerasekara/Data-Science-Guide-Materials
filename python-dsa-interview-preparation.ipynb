{
 "cells": [
  {
   "cell_type": "markdown",
   "id": "d71456a5",
   "metadata": {
    "papermill": {
     "duration": 0.006153,
     "end_time": "2024-10-04T07:57:41.247123",
     "exception": false,
     "start_time": "2024-10-04T07:57:41.240970",
     "status": "completed"
    },
    "tags": []
   },
   "source": []
  },
  {
   "cell_type": "markdown",
   "id": "409673db",
   "metadata": {
    "papermill": {
     "duration": 0.005264,
     "end_time": "2024-10-04T07:57:41.257958",
     "exception": false,
     "start_time": "2024-10-04T07:57:41.252694",
     "status": "completed"
    },
    "tags": []
   },
   "source": [
    "# 1. Reverse a String"
   ]
  },
  {
   "cell_type": "markdown",
   "id": "954a9e1d",
   "metadata": {
    "papermill": {
     "duration": 0.005057,
     "end_time": "2024-10-04T07:57:41.268342",
     "exception": false,
     "start_time": "2024-10-04T07:57:41.263285",
     "status": "completed"
    },
    "tags": []
   },
   "source": []
  },
  {
   "cell_type": "code",
   "execution_count": 1,
   "id": "75c0757d",
   "metadata": {
    "execution": {
     "iopub.execute_input": "2024-10-04T07:57:41.280960Z",
     "iopub.status.busy": "2024-10-04T07:57:41.280549Z",
     "iopub.status.idle": "2024-10-04T07:57:41.290549Z",
     "shell.execute_reply": "2024-10-04T07:57:41.289446Z"
    },
    "papermill": {
     "duration": 0.019062,
     "end_time": "2024-10-04T07:57:41.292873",
     "exception": false,
     "start_time": "2024-10-04T07:57:41.273811",
     "status": "completed"
    },
    "tags": []
   },
   "outputs": [],
   "source": [
    "def reverse_string(s):\n",
    "    return s[::-1] # s[start:end:steps]"
   ]
  },
  {
   "cell_type": "code",
   "execution_count": 2,
   "id": "e0d37935",
   "metadata": {
    "execution": {
     "iopub.execute_input": "2024-10-04T07:57:41.305855Z",
     "iopub.status.busy": "2024-10-04T07:57:41.305440Z",
     "iopub.status.idle": "2024-10-04T07:57:41.313197Z",
     "shell.execute_reply": "2024-10-04T07:57:41.312193Z"
    },
    "papermill": {
     "duration": 0.017098,
     "end_time": "2024-10-04T07:57:41.315670",
     "exception": false,
     "start_time": "2024-10-04T07:57:41.298572",
     "status": "completed"
    },
    "tags": []
   },
   "outputs": [
    {
     "data": {
      "text/plain": [
       "'inahsudaM'"
      ]
     },
     "execution_count": 2,
     "metadata": {},
     "output_type": "execute_result"
    }
   ],
   "source": [
    "# Example usage\n",
    "string = \"Madushani\"\n",
    "reversed_string = reverse_string(string)\n",
    "reverse_string(string)"
   ]
  },
  {
   "cell_type": "markdown",
   "id": "19f790e6",
   "metadata": {
    "papermill": {
     "duration": 0.005256,
     "end_time": "2024-10-04T07:57:41.326578",
     "exception": false,
     "start_time": "2024-10-04T07:57:41.321322",
     "status": "completed"
    },
    "tags": []
   },
   "source": [
    "# 2. Check if a string is a palindrome.\n",
    "A string is said to be a palindrome if the string read from left to right is equal to the string read from right to left. "
   ]
  },
  {
   "cell_type": "code",
   "execution_count": 3,
   "id": "1c9b22eb",
   "metadata": {
    "execution": {
     "iopub.execute_input": "2024-10-04T07:57:41.340186Z",
     "iopub.status.busy": "2024-10-04T07:57:41.339762Z",
     "iopub.status.idle": "2024-10-04T07:57:41.345122Z",
     "shell.execute_reply": "2024-10-04T07:57:41.344104Z"
    },
    "papermill": {
     "duration": 0.014399,
     "end_time": "2024-10-04T07:57:41.347482",
     "exception": false,
     "start_time": "2024-10-04T07:57:41.333083",
     "status": "completed"
    },
    "tags": []
   },
   "outputs": [],
   "source": [
    "def is_palindrome(s):\n",
    "    \n",
    "    # Remove spaces and convert to lowercase for case-insensitive comparison\n",
    "    s = s.replace(\" \", \"\").lower()\n",
    "    \n",
    "    return s == s[::-1]"
   ]
  },
  {
   "cell_type": "code",
   "execution_count": 4,
   "id": "b7fae4af",
   "metadata": {
    "execution": {
     "iopub.execute_input": "2024-10-04T07:57:41.360371Z",
     "iopub.status.busy": "2024-10-04T07:57:41.359934Z",
     "iopub.status.idle": "2024-10-04T07:57:41.366365Z",
     "shell.execute_reply": "2024-10-04T07:57:41.365199Z"
    },
    "papermill": {
     "duration": 0.015604,
     "end_time": "2024-10-04T07:57:41.368740",
     "exception": false,
     "start_time": "2024-10-04T07:57:41.353136",
     "status": "completed"
    },
    "tags": []
   },
   "outputs": [
    {
     "name": "stdout",
     "output_type": "stream",
     "text": [
      "\"Madam\" is a palindrome.\n"
     ]
    }
   ],
   "source": [
    "# Example useage\n",
    "string = \"Madam\"\n",
    "\n",
    "if is_palindrome(string):\n",
    "    print(f'\"{string}\" is a palindrome.')\n",
    "else:\n",
    "    print(f'\"{string}\" is not a palindrome')"
   ]
  },
  {
   "cell_type": "markdown",
   "id": "91d6da9c",
   "metadata": {
    "papermill": {
     "duration": 0.005323,
     "end_time": "2024-10-04T07:57:41.379777",
     "exception": false,
     "start_time": "2024-10-04T07:57:41.374454",
     "status": "completed"
    },
    "tags": []
   },
   "source": [
    "# 3. Find Factorial\n",
    "Calculate the factorial of a number.\n",
    "https://cdn1.qualitygurus.com/wp-content/uploads/2022/12/Factorials-Formula-scaled.jpg?lossy=1&ssl=1"
   ]
  },
  {
   "cell_type": "code",
   "execution_count": 5,
   "id": "51730dd8",
   "metadata": {
    "execution": {
     "iopub.execute_input": "2024-10-04T07:57:41.392749Z",
     "iopub.status.busy": "2024-10-04T07:57:41.392359Z",
     "iopub.status.idle": "2024-10-04T07:57:41.397756Z",
     "shell.execute_reply": "2024-10-04T07:57:41.396616Z"
    },
    "papermill": {
     "duration": 0.014547,
     "end_time": "2024-10-04T07:57:41.400047",
     "exception": false,
     "start_time": "2024-10-04T07:57:41.385500",
     "status": "completed"
    },
    "tags": []
   },
   "outputs": [],
   "source": [
    "def factorial(n):\n",
    "    if n <=1: # Stopping Condition\n",
    "        return 1\n",
    "    else:\n",
    "        return n*factorial(n-1)"
   ]
  },
  {
   "cell_type": "code",
   "execution_count": 6,
   "id": "05d844c0",
   "metadata": {
    "execution": {
     "iopub.execute_input": "2024-10-04T07:57:41.413297Z",
     "iopub.status.busy": "2024-10-04T07:57:41.412533Z",
     "iopub.status.idle": "2024-10-04T07:57:41.418224Z",
     "shell.execute_reply": "2024-10-04T07:57:41.416949Z"
    },
    "papermill": {
     "duration": 0.014864,
     "end_time": "2024-10-04T07:57:41.420553",
     "exception": false,
     "start_time": "2024-10-04T07:57:41.405689",
     "status": "completed"
    },
    "tags": []
   },
   "outputs": [
    {
     "name": "stdout",
     "output_type": "stream",
     "text": [
      "\"The factorial of 6 is 720.\n"
     ]
    }
   ],
   "source": [
    "# Example usage\n",
    "number = 6\n",
    "print(f'\"The factorial of {number} is {factorial(number)}.')"
   ]
  },
  {
   "cell_type": "markdown",
   "id": "c2fd4873",
   "metadata": {
    "papermill": {
     "duration": 0.005815,
     "end_time": "2024-10-04T07:57:41.432032",
     "exception": false,
     "start_time": "2024-10-04T07:57:41.426217",
     "status": "completed"
    },
    "tags": []
   },
   "source": []
  },
  {
   "cell_type": "markdown",
   "id": "a219a820",
   "metadata": {
    "papermill": {
     "duration": 0.005344,
     "end_time": "2024-10-04T07:57:41.443014",
     "exception": false,
     "start_time": "2024-10-04T07:57:41.437670",
     "status": "completed"
    },
    "tags": []
   },
   "source": [
    "# 4.  Fibonacci Series\n",
    "\n",
    " Question: Generate the nth Fibonacci number.\n",
    "\n",
    "To generate the n-th number in a sequence like Fibonacci, we can use three different methods: using loops, recursion, and an optimized technique with memoization or dynamic programming.\n",
    "\n",
    "Let’s walk through each technique with the Fibonacci sequence as an example, where:\n",
    "\n",
    "    Fibonacci(0) = 0\n",
    "    Fibonacci(1) = 1\n",
    "    Fibonacci(n) = Fibonacci(n - 1) + Fibonacci(n - 2) for n ≥ 2\n",
    "\n",
    "## 1. Using Loops (Iterative Approach)\n",
    "\n",
    "In this method, we compute the Fibonacci numbers using a loop, which is the simplest and most efficient for small sequences."
   ]
  },
  {
   "cell_type": "code",
   "execution_count": 7,
   "id": "71571e86",
   "metadata": {
    "execution": {
     "iopub.execute_input": "2024-10-04T07:57:41.456097Z",
     "iopub.status.busy": "2024-10-04T07:57:41.455681Z",
     "iopub.status.idle": "2024-10-04T07:57:41.460916Z",
     "shell.execute_reply": "2024-10-04T07:57:41.459824Z"
    },
    "papermill": {
     "duration": 0.014443,
     "end_time": "2024-10-04T07:57:41.463198",
     "exception": false,
     "start_time": "2024-10-04T07:57:41.448755",
     "status": "completed"
    },
    "tags": []
   },
   "outputs": [],
   "source": [
    "# Using loop\n",
    "def fibonacci(n):\n",
    "    if n <=1:\n",
    "        return n\n",
    "    else:\n",
    "        return fibonacci(n-1)+fibonacci(n-2)"
   ]
  },
  {
   "cell_type": "code",
   "execution_count": 8,
   "id": "9049c4c0",
   "metadata": {
    "execution": {
     "iopub.execute_input": "2024-10-04T07:57:41.476461Z",
     "iopub.status.busy": "2024-10-04T07:57:41.476053Z",
     "iopub.status.idle": "2024-10-04T07:57:41.481615Z",
     "shell.execute_reply": "2024-10-04T07:57:41.480483Z"
    },
    "papermill": {
     "duration": 0.015035,
     "end_time": "2024-10-04T07:57:41.484013",
     "exception": false,
     "start_time": "2024-10-04T07:57:41.468978",
     "status": "completed"
    },
    "tags": []
   },
   "outputs": [
    {
     "name": "stdout",
     "output_type": "stream",
     "text": [
      "0\n",
      "1\n",
      "1\n",
      "2\n",
      "3\n",
      "5\n",
      "8\n",
      "13\n",
      "21\n",
      "34\n"
     ]
    }
   ],
   "source": [
    "for i in range (10):\n",
    "    print(fibonacci(i))"
   ]
  },
  {
   "cell_type": "markdown",
   "id": "6f161e55",
   "metadata": {
    "papermill": {
     "duration": 0.005695,
     "end_time": "2024-10-04T07:57:41.495541",
     "exception": false,
     "start_time": "2024-10-04T07:57:41.489846",
     "status": "completed"
    },
    "tags": []
   },
   "source": [
    "## 2. Using Recursion\n",
    "In the recursive approach, the function calls itself to compute the Fibonacci number by breaking the problem into smaller subproblems."
   ]
  },
  {
   "cell_type": "code",
   "execution_count": 9,
   "id": "b7cf9a9a",
   "metadata": {
    "execution": {
     "iopub.execute_input": "2024-10-04T07:57:41.508842Z",
     "iopub.status.busy": "2024-10-04T07:57:41.508186Z",
     "iopub.status.idle": "2024-10-04T07:57:41.513563Z",
     "shell.execute_reply": "2024-10-04T07:57:41.512502Z"
    },
    "papermill": {
     "duration": 0.014315,
     "end_time": "2024-10-04T07:57:41.515594",
     "exception": false,
     "start_time": "2024-10-04T07:57:41.501279",
     "status": "completed"
    },
    "tags": []
   },
   "outputs": [],
   "source": [
    "# Using Recursion\n",
    "def fib_recuresive(n):\n",
    "    if n <=1:\n",
    "        return n\n",
    "    else:\n",
    "        return fib_recuresive(n-1)+fib_recuresive(n-2)\n",
    "\n"
   ]
  },
  {
   "cell_type": "code",
   "execution_count": 10,
   "id": "2ed14c72",
   "metadata": {
    "execution": {
     "iopub.execute_input": "2024-10-04T07:57:41.528807Z",
     "iopub.status.busy": "2024-10-04T07:57:41.528423Z",
     "iopub.status.idle": "2024-10-04T07:57:41.533965Z",
     "shell.execute_reply": "2024-10-04T07:57:41.532765Z"
    },
    "papermill": {
     "duration": 0.015367,
     "end_time": "2024-10-04T07:57:41.536776",
     "exception": false,
     "start_time": "2024-10-04T07:57:41.521409",
     "status": "completed"
    },
    "tags": []
   },
   "outputs": [
    {
     "name": "stdout",
     "output_type": "stream",
     "text": [
      "Fibonacci number is 8\n"
     ]
    }
   ],
   "source": [
    "n = 6\n",
    "# fib_recuresive(8)\n",
    "print(f'Fibonacci number is {fib_recuresive(n)}')"
   ]
  },
  {
   "cell_type": "markdown",
   "id": "edc66a0b",
   "metadata": {
    "papermill": {
     "duration": 0.005613,
     "end_time": "2024-10-04T07:57:41.548403",
     "exception": false,
     "start_time": "2024-10-04T07:57:41.542790",
     "status": "completed"
    },
    "tags": []
   },
   "source": [
    "## 3. Using an Optimized Approach (Memoization or Dynamic Programming)\n",
    "\n",
    "In this optimized technique, we use memoization to store previously computed Fibonacci numbers and avoid redundant calculations.\n",
    "\n",
    "### 3.1 Memorization"
   ]
  },
  {
   "cell_type": "code",
   "execution_count": 11,
   "id": "80ab36d0",
   "metadata": {
    "execution": {
     "iopub.execute_input": "2024-10-04T07:57:41.561833Z",
     "iopub.status.busy": "2024-10-04T07:57:41.561453Z",
     "iopub.status.idle": "2024-10-04T07:57:41.567713Z",
     "shell.execute_reply": "2024-10-04T07:57:41.566631Z"
    },
    "papermill": {
     "duration": 0.01589,
     "end_time": "2024-10-04T07:57:41.570094",
     "exception": false,
     "start_time": "2024-10-04T07:57:41.554204",
     "status": "completed"
    },
    "tags": []
   },
   "outputs": [],
   "source": [
    "# Using optimized techniques - Memorization\n",
    "\n",
    "def fib_memo(n, memo={}):\n",
    "    # Check if result is already in memo\n",
    "    if n in memo:\n",
    "        return memo[n]\n",
    "    else:\n",
    "        if n == 0:\n",
    "            return 0\n",
    "        elif n == 1:\n",
    "            return 1\n",
    "        else:\n",
    "        # Recursive case with memo\n",
    "            memo[n] = fib_memo(n-1, memo)+fib_memo(n-2, memo)\n",
    "            return memo[n]"
   ]
  },
  {
   "cell_type": "code",
   "execution_count": 12,
   "id": "57d0d7ec",
   "metadata": {
    "execution": {
     "iopub.execute_input": "2024-10-04T07:57:41.584908Z",
     "iopub.status.busy": "2024-10-04T07:57:41.583935Z",
     "iopub.status.idle": "2024-10-04T07:57:41.589591Z",
     "shell.execute_reply": "2024-10-04T07:57:41.588612Z"
    },
    "papermill": {
     "duration": 0.015471,
     "end_time": "2024-10-04T07:57:41.591698",
     "exception": false,
     "start_time": "2024-10-04T07:57:41.576227",
     "status": "completed"
    },
    "tags": []
   },
   "outputs": [
    {
     "name": "stdout",
     "output_type": "stream",
     "text": [
      "The 69th Fibonacci number is: 117669030460994\n"
     ]
    }
   ],
   "source": [
    "n = 69\n",
    "print(f\"The {n}th Fibonacci number is: {fib_memo(n)}\")\n",
    " "
   ]
  },
  {
   "cell_type": "markdown",
   "id": "7c468deb",
   "metadata": {
    "papermill": {
     "duration": 0.005595,
     "end_time": "2024-10-04T07:57:41.603234",
     "exception": false,
     "start_time": "2024-10-04T07:57:41.597639",
     "status": "completed"
    },
    "tags": []
   },
   "source": [
    "### 3.2 Dynamic Programming (DP) \n",
    "Dynamic Programming (DP) is a method used to solve problems by breaking them down into smaller subproblems, solving each subproblem just once, and storing its solution. This way, we avoid recomputation and achieve an optimal solution efficiently.\n",
    "\n",
    "For the n-th Fibonacci number using Dynamic Programming, we will store the previously calculated Fibonacci numbers in an array, and each number is calculated only once.\n",
    "Dynamic Programming Approach for Fibonacci:\n",
    "\n",
    "    Initialize an array (or list) to store the Fibonacci numbers up to n.\n",
    "    Use a bottom-up approach where you start from the smallest Fibonacci numbers and work your way up to the desired n-th Fibonacci number.\n",
    "    Store each calculated Fibonacci number in the array so you can reuse them, avoiding redundant calculations."
   ]
  },
  {
   "cell_type": "code",
   "execution_count": 13,
   "id": "f37ad4e6",
   "metadata": {
    "execution": {
     "iopub.execute_input": "2024-10-04T07:57:41.617371Z",
     "iopub.status.busy": "2024-10-04T07:57:41.616402Z",
     "iopub.status.idle": "2024-10-04T07:57:41.623355Z",
     "shell.execute_reply": "2024-10-04T07:57:41.622331Z"
    },
    "papermill": {
     "duration": 0.016915,
     "end_time": "2024-10-04T07:57:41.625986",
     "exception": false,
     "start_time": "2024-10-04T07:57:41.609071",
     "status": "completed"
    },
    "tags": []
   },
   "outputs": [
    {
     "name": "stdout",
     "output_type": "stream",
     "text": [
      "The 9th Fibonacci number is: 34\n"
     ]
    }
   ],
   "source": [
    "def fib_dp(n):\n",
    "    # Create an array to store Fibonacci numbers\n",
    "    fib = [0] * (n + 1)\n",
    "    \n",
    "    # Base cases\n",
    "    fib[0] = 0\n",
    "    if n > 0:\n",
    "        fib[1] = 1\n",
    "    \n",
    "    # Fill the array using the Fibonacci formula\n",
    "    for i in range(2, n + 1):\n",
    "        fib[i] = fib[i - 1] + fib[i - 2]\n",
    "    \n",
    "    # Return the nth Fibonacci number\n",
    "    return fib[n]\n",
    "\n",
    "# Example usage\n",
    "n = 9\n",
    "print(f\"The {n}th Fibonacci number is: {fib_dp(n)}\")\n"
   ]
  },
  {
   "cell_type": "markdown",
   "id": "a0e89543",
   "metadata": {
    "papermill": {
     "duration": 0.005699,
     "end_time": "2024-10-04T07:57:41.637865",
     "exception": false,
     "start_time": "2024-10-04T07:57:41.632166",
     "status": "completed"
    },
    "tags": []
   },
   "source": [
    "#### Summary:\n",
    "\n",
    "    fib = [0] * (n + 1) creates a list of size n + 1, with all values initialized to 0.\n",
    "    The list is used to store Fibonacci numbers from fib[0] to fib[n], and n + 1 ensures that we have enough space for all the Fibonacci numbers."
   ]
  },
  {
   "cell_type": "code",
   "execution_count": null,
   "id": "e2af479f",
   "metadata": {
    "papermill": {
     "duration": 0.005642,
     "end_time": "2024-10-04T07:57:41.649496",
     "exception": false,
     "start_time": "2024-10-04T07:57:41.643854",
     "status": "completed"
    },
    "tags": []
   },
   "outputs": [],
   "source": []
  }
 ],
 "metadata": {
  "kaggle": {
   "accelerator": "none",
   "dataSources": [],
   "dockerImageVersionId": 30786,
   "isGpuEnabled": false,
   "isInternetEnabled": true,
   "language": "python",
   "sourceType": "notebook"
  },
  "kernelspec": {
   "display_name": "Python 3",
   "language": "python",
   "name": "python3"
  },
  "language_info": {
   "codemirror_mode": {
    "name": "ipython",
    "version": 3
   },
   "file_extension": ".py",
   "mimetype": "text/x-python",
   "name": "python",
   "nbconvert_exporter": "python",
   "pygments_lexer": "ipython3",
   "version": "3.10.14"
  },
  "papermill": {
   "default_parameters": {},
   "duration": 3.515492,
   "end_time": "2024-10-04T07:57:42.075001",
   "environment_variables": {},
   "exception": null,
   "input_path": "__notebook__.ipynb",
   "output_path": "__notebook__.ipynb",
   "parameters": {},
   "start_time": "2024-10-04T07:57:38.559509",
   "version": "2.6.0"
  }
 },
 "nbformat": 4,
 "nbformat_minor": 5
}
