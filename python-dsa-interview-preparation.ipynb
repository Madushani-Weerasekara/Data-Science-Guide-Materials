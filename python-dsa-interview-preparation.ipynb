{
 "cells": [
  {
   "cell_type": "markdown",
   "id": "601911f9",
   "metadata": {
    "papermill": {
     "duration": 0.008534,
     "end_time": "2024-10-04T08:02:00.363505",
     "exception": false,
     "start_time": "2024-10-04T08:02:00.354971",
     "status": "completed"
    },
    "tags": []
   },
   "source": []
  },
  {
   "cell_type": "markdown",
   "id": "e6e0d087",
   "metadata": {
    "papermill": {
     "duration": 0.007377,
     "end_time": "2024-10-04T08:02:00.378732",
     "exception": false,
     "start_time": "2024-10-04T08:02:00.371355",
     "status": "completed"
    },
    "tags": []
   },
   "source": [
    "# 1. Reverse a String"
   ]
  },
  {
   "cell_type": "markdown",
   "id": "5cc596b3",
   "metadata": {
    "papermill": {
     "duration": 0.007255,
     "end_time": "2024-10-04T08:02:00.393743",
     "exception": false,
     "start_time": "2024-10-04T08:02:00.386488",
     "status": "completed"
    },
    "tags": []
   },
   "source": []
  },
  {
   "cell_type": "code",
   "execution_count": 1,
   "id": "067ab549",
   "metadata": {
    "execution": {
     "iopub.execute_input": "2024-10-04T08:02:00.411165Z",
     "iopub.status.busy": "2024-10-04T08:02:00.410592Z",
     "iopub.status.idle": "2024-10-04T08:02:00.424067Z",
     "shell.execute_reply": "2024-10-04T08:02:00.422730Z"
    },
    "papermill": {
     "duration": 0.02531,
     "end_time": "2024-10-04T08:02:00.426748",
     "exception": false,
     "start_time": "2024-10-04T08:02:00.401438",
     "status": "completed"
    },
    "tags": []
   },
   "outputs": [],
   "source": [
    "def reverse_string(s):\n",
    "    return s[::-1] # s[start:end:steps]"
   ]
  },
  {
   "cell_type": "code",
   "execution_count": 2,
   "id": "010d240a",
   "metadata": {
    "execution": {
     "iopub.execute_input": "2024-10-04T08:02:00.444251Z",
     "iopub.status.busy": "2024-10-04T08:02:00.443623Z",
     "iopub.status.idle": "2024-10-04T08:02:00.453206Z",
     "shell.execute_reply": "2024-10-04T08:02:00.451874Z"
    },
    "papermill": {
     "duration": 0.021123,
     "end_time": "2024-10-04T08:02:00.455593",
     "exception": false,
     "start_time": "2024-10-04T08:02:00.434470",
     "status": "completed"
    },
    "tags": []
   },
   "outputs": [
    {
     "data": {
      "text/plain": [
       "'inahsudaM'"
      ]
     },
     "execution_count": 2,
     "metadata": {},
     "output_type": "execute_result"
    }
   ],
   "source": [
    "# Example usage\n",
    "string = \"Madushani\"\n",
    "reversed_string = reverse_string(string)\n",
    "reverse_string(string)"
   ]
  },
  {
   "cell_type": "markdown",
   "id": "df53be58",
   "metadata": {
    "papermill": {
     "duration": 0.007586,
     "end_time": "2024-10-04T08:02:00.472863",
     "exception": false,
     "start_time": "2024-10-04T08:02:00.465277",
     "status": "completed"
    },
    "tags": []
   },
   "source": [
    "# 2. Check if a string is a palindrome.\n",
    "A string is said to be a palindrome if the string read from left to right is equal to the string read from right to left. "
   ]
  },
  {
   "cell_type": "code",
   "execution_count": 3,
   "id": "c62e10cd",
   "metadata": {
    "execution": {
     "iopub.execute_input": "2024-10-04T08:02:00.491856Z",
     "iopub.status.busy": "2024-10-04T08:02:00.491388Z",
     "iopub.status.idle": "2024-10-04T08:02:00.497278Z",
     "shell.execute_reply": "2024-10-04T08:02:00.496073Z"
    },
    "papermill": {
     "duration": 0.017787,
     "end_time": "2024-10-04T08:02:00.499844",
     "exception": false,
     "start_time": "2024-10-04T08:02:00.482057",
     "status": "completed"
    },
    "tags": []
   },
   "outputs": [],
   "source": [
    "def is_palindrome(s):\n",
    "    \n",
    "    # Remove spaces and convert to lowercase for case-insensitive comparison\n",
    "    s = s.replace(\" \", \"\").lower()\n",
    "    \n",
    "    return s == s[::-1]"
   ]
  },
  {
   "cell_type": "code",
   "execution_count": 4,
   "id": "e1b2da4b",
   "metadata": {
    "execution": {
     "iopub.execute_input": "2024-10-04T08:02:00.518968Z",
     "iopub.status.busy": "2024-10-04T08:02:00.518500Z",
     "iopub.status.idle": "2024-10-04T08:02:00.525338Z",
     "shell.execute_reply": "2024-10-04T08:02:00.524054Z"
    },
    "papermill": {
     "duration": 0.019942,
     "end_time": "2024-10-04T08:02:00.528105",
     "exception": false,
     "start_time": "2024-10-04T08:02:00.508163",
     "status": "completed"
    },
    "tags": []
   },
   "outputs": [
    {
     "name": "stdout",
     "output_type": "stream",
     "text": [
      "\"Madam\" is a palindrome.\n"
     ]
    }
   ],
   "source": [
    "# Example useage\n",
    "string = \"Madam\"\n",
    "\n",
    "if is_palindrome(string):\n",
    "    print(f'\"{string}\" is a palindrome.')\n",
    "else:\n",
    "    print(f'\"{string}\" is not a palindrome')"
   ]
  },
  {
   "cell_type": "markdown",
   "id": "7bfccca7",
   "metadata": {
    "papermill": {
     "duration": 0.007572,
     "end_time": "2024-10-04T08:02:00.543683",
     "exception": false,
     "start_time": "2024-10-04T08:02:00.536111",
     "status": "completed"
    },
    "tags": []
   },
   "source": [
    "# 3. Find Factorial\n",
    "Calculate the factorial of a number.\n",
    "https://cdn1.qualitygurus.com/wp-content/uploads/2022/12/Factorials-Formula-scaled.jpg?lossy=1&ssl=1"
   ]
  },
  {
   "cell_type": "code",
   "execution_count": 5,
   "id": "6e476afd",
   "metadata": {
    "execution": {
     "iopub.execute_input": "2024-10-04T08:02:00.562178Z",
     "iopub.status.busy": "2024-10-04T08:02:00.561694Z",
     "iopub.status.idle": "2024-10-04T08:02:00.567839Z",
     "shell.execute_reply": "2024-10-04T08:02:00.566525Z"
    },
    "papermill": {
     "duration": 0.018823,
     "end_time": "2024-10-04T08:02:00.570500",
     "exception": false,
     "start_time": "2024-10-04T08:02:00.551677",
     "status": "completed"
    },
    "tags": []
   },
   "outputs": [],
   "source": [
    "def factorial(n):\n",
    "    if n <=1: # Stopping Condition\n",
    "        return 1\n",
    "    else:\n",
    "        return n*factorial(n-1)"
   ]
  },
  {
   "cell_type": "code",
   "execution_count": 6,
   "id": "8f5b9470",
   "metadata": {
    "execution": {
     "iopub.execute_input": "2024-10-04T08:02:00.589060Z",
     "iopub.status.busy": "2024-10-04T08:02:00.587979Z",
     "iopub.status.idle": "2024-10-04T08:02:00.594318Z",
     "shell.execute_reply": "2024-10-04T08:02:00.593144Z"
    },
    "papermill": {
     "duration": 0.018452,
     "end_time": "2024-10-04T08:02:00.597029",
     "exception": false,
     "start_time": "2024-10-04T08:02:00.578577",
     "status": "completed"
    },
    "tags": []
   },
   "outputs": [
    {
     "name": "stdout",
     "output_type": "stream",
     "text": [
      "\"The factorial of 6 is 720.\n"
     ]
    }
   ],
   "source": [
    "# Example usage\n",
    "number = 6\n",
    "print(f'\"The factorial of {number} is {factorial(number)}.')"
   ]
  },
  {
   "cell_type": "markdown",
   "id": "e26f3e0c",
   "metadata": {
    "papermill": {
     "duration": 0.007848,
     "end_time": "2024-10-04T08:02:00.612959",
     "exception": false,
     "start_time": "2024-10-04T08:02:00.605111",
     "status": "completed"
    },
    "tags": []
   },
   "source": []
  },
  {
   "cell_type": "markdown",
   "id": "db324a2f",
   "metadata": {
    "papermill": {
     "duration": 0.008079,
     "end_time": "2024-10-04T08:02:00.629178",
     "exception": false,
     "start_time": "2024-10-04T08:02:00.621099",
     "status": "completed"
    },
    "tags": []
   },
   "source": [
    "# 4.  Fibonacci Series\n",
    "\n",
    " Question: Generate the nth Fibonacci number.\n",
    "\n",
    "To generate the n-th number in a sequence like Fibonacci, we can use three different methods: using loops, recursion, and an optimized technique with memoization or dynamic programming.\n",
    "\n",
    "Let’s walk through each technique with the Fibonacci sequence as an example, where:\n",
    "\n",
    "    Fibonacci(0) = 0\n",
    "    Fibonacci(1) = 1\n",
    "    Fibonacci(n) = Fibonacci(n - 1) + Fibonacci(n - 2) for n ≥ 2\n",
    "\n",
    "## 1. Using Loops (Iterative Approach)\n",
    "\n",
    "In this method, we compute the Fibonacci numbers using a loop, which is the simplest and most efficient for small sequences."
   ]
  },
  {
   "cell_type": "code",
   "execution_count": 7,
   "id": "c8604b68",
   "metadata": {
    "execution": {
     "iopub.execute_input": "2024-10-04T08:02:00.647326Z",
     "iopub.status.busy": "2024-10-04T08:02:00.646909Z",
     "iopub.status.idle": "2024-10-04T08:02:00.652813Z",
     "shell.execute_reply": "2024-10-04T08:02:00.651580Z"
    },
    "papermill": {
     "duration": 0.017688,
     "end_time": "2024-10-04T08:02:00.655255",
     "exception": false,
     "start_time": "2024-10-04T08:02:00.637567",
     "status": "completed"
    },
    "tags": []
   },
   "outputs": [],
   "source": [
    "# Using loop\n",
    "def fibonacci(n):\n",
    "    if n <=1:\n",
    "        return n\n",
    "    else:\n",
    "        return fibonacci(n-1)+fibonacci(n-2)"
   ]
  },
  {
   "cell_type": "code",
   "execution_count": 8,
   "id": "bb989039",
   "metadata": {
    "execution": {
     "iopub.execute_input": "2024-10-04T08:02:00.673591Z",
     "iopub.status.busy": "2024-10-04T08:02:00.672645Z",
     "iopub.status.idle": "2024-10-04T08:02:00.678950Z",
     "shell.execute_reply": "2024-10-04T08:02:00.677739Z"
    },
    "papermill": {
     "duration": 0.018673,
     "end_time": "2024-10-04T08:02:00.682013",
     "exception": false,
     "start_time": "2024-10-04T08:02:00.663340",
     "status": "completed"
    },
    "tags": []
   },
   "outputs": [
    {
     "name": "stdout",
     "output_type": "stream",
     "text": [
      "0\n",
      "1\n",
      "1\n",
      "2\n",
      "3\n",
      "5\n",
      "8\n",
      "13\n",
      "21\n",
      "34\n"
     ]
    }
   ],
   "source": [
    "for i in range (10):\n",
    "    print(fibonacci(i))"
   ]
  },
  {
   "cell_type": "markdown",
   "id": "ef876b04",
   "metadata": {
    "papermill": {
     "duration": 0.008066,
     "end_time": "2024-10-04T08:02:00.698283",
     "exception": false,
     "start_time": "2024-10-04T08:02:00.690217",
     "status": "completed"
    },
    "tags": []
   },
   "source": [
    "## 2. Using Recursion\n",
    "In the recursive approach, the function calls itself to compute the Fibonacci number by breaking the problem into smaller subproblems."
   ]
  },
  {
   "cell_type": "code",
   "execution_count": 9,
   "id": "6cb3679c",
   "metadata": {
    "execution": {
     "iopub.execute_input": "2024-10-04T08:02:00.716936Z",
     "iopub.status.busy": "2024-10-04T08:02:00.716454Z",
     "iopub.status.idle": "2024-10-04T08:02:00.722166Z",
     "shell.execute_reply": "2024-10-04T08:02:00.720945Z"
    },
    "papermill": {
     "duration": 0.017721,
     "end_time": "2024-10-04T08:02:00.724534",
     "exception": false,
     "start_time": "2024-10-04T08:02:00.706813",
     "status": "completed"
    },
    "tags": []
   },
   "outputs": [],
   "source": [
    "# Using Recursion\n",
    "def fib_recuresive(n):\n",
    "    if n <=1:\n",
    "        return n\n",
    "    else:\n",
    "        return fib_recuresive(n-1)+fib_recuresive(n-2)\n",
    "\n"
   ]
  },
  {
   "cell_type": "code",
   "execution_count": 10,
   "id": "3efb7cd4",
   "metadata": {
    "execution": {
     "iopub.execute_input": "2024-10-04T08:02:00.743100Z",
     "iopub.status.busy": "2024-10-04T08:02:00.742642Z",
     "iopub.status.idle": "2024-10-04T08:02:00.748809Z",
     "shell.execute_reply": "2024-10-04T08:02:00.747643Z"
    },
    "papermill": {
     "duration": 0.018952,
     "end_time": "2024-10-04T08:02:00.751567",
     "exception": false,
     "start_time": "2024-10-04T08:02:00.732615",
     "status": "completed"
    },
    "tags": []
   },
   "outputs": [
    {
     "name": "stdout",
     "output_type": "stream",
     "text": [
      "Fibonacci number is 8\n"
     ]
    }
   ],
   "source": [
    "n = 6\n",
    "# fib_recuresive(8)\n",
    "print(f'Fibonacci number is {fib_recuresive(n)}')"
   ]
  },
  {
   "cell_type": "markdown",
   "id": "2344a6ab",
   "metadata": {
    "papermill": {
     "duration": 0.00895,
     "end_time": "2024-10-04T08:02:00.769096",
     "exception": false,
     "start_time": "2024-10-04T08:02:00.760146",
     "status": "completed"
    },
    "tags": []
   },
   "source": [
    "## 3. Using an Optimized Approach (Memoization or Dynamic Programming)\n",
    "\n",
    "In this optimized technique, we use memoization to store previously computed Fibonacci numbers and avoid redundant calculations.\n",
    "\n",
    "### 3.1 Memorization"
   ]
  },
  {
   "cell_type": "code",
   "execution_count": 11,
   "id": "61079629",
   "metadata": {
    "execution": {
     "iopub.execute_input": "2024-10-04T08:02:00.787412Z",
     "iopub.status.busy": "2024-10-04T08:02:00.786993Z",
     "iopub.status.idle": "2024-10-04T08:02:00.794495Z",
     "shell.execute_reply": "2024-10-04T08:02:00.793323Z"
    },
    "papermill": {
     "duration": 0.019541,
     "end_time": "2024-10-04T08:02:00.797012",
     "exception": false,
     "start_time": "2024-10-04T08:02:00.777471",
     "status": "completed"
    },
    "tags": []
   },
   "outputs": [],
   "source": [
    "# Using optimized techniques - Memorization\n",
    "\n",
    "def fib_memo(n, memo={}):\n",
    "    # Check if result is already in memo\n",
    "    if n in memo:\n",
    "        return memo[n]\n",
    "    else:\n",
    "        if n == 0:\n",
    "            return 0\n",
    "        elif n == 1:\n",
    "            return 1\n",
    "        else:\n",
    "        # Recursive case with memo\n",
    "            memo[n] = fib_memo(n-1, memo)+fib_memo(n-2, memo)\n",
    "            return memo[n]"
   ]
  },
  {
   "cell_type": "code",
   "execution_count": 12,
   "id": "6a0ddb32",
   "metadata": {
    "execution": {
     "iopub.execute_input": "2024-10-04T08:02:00.815668Z",
     "iopub.status.busy": "2024-10-04T08:02:00.815233Z",
     "iopub.status.idle": "2024-10-04T08:02:00.821340Z",
     "shell.execute_reply": "2024-10-04T08:02:00.820214Z"
    },
    "papermill": {
     "duration": 0.018516,
     "end_time": "2024-10-04T08:02:00.823888",
     "exception": false,
     "start_time": "2024-10-04T08:02:00.805372",
     "status": "completed"
    },
    "tags": []
   },
   "outputs": [
    {
     "name": "stdout",
     "output_type": "stream",
     "text": [
      "The 69th Fibonacci number is: 117669030460994\n"
     ]
    }
   ],
   "source": [
    "n = 69\n",
    "print(f\"The {n}th Fibonacci number is: {fib_memo(n)}\")\n",
    " "
   ]
  },
  {
   "cell_type": "markdown",
   "id": "96f30a6c",
   "metadata": {
    "papermill": {
     "duration": 0.008201,
     "end_time": "2024-10-04T08:02:00.840656",
     "exception": false,
     "start_time": "2024-10-04T08:02:00.832455",
     "status": "completed"
    },
    "tags": []
   },
   "source": [
    "### 3.2 Dynamic Programming (DP) \n",
    "Dynamic Programming (DP) is a method used to solve problems by breaking them down into smaller subproblems, solving each subproblem just once, and storing its solution. This way, we avoid recomputation and achieve an optimal solution efficiently.\n",
    "\n",
    "For the n-th Fibonacci number using Dynamic Programming, we will store the previously calculated Fibonacci numbers in an array, and each number is calculated only once.\n",
    "Dynamic Programming Approach for Fibonacci:\n",
    "\n",
    "    Initialize an array (or list) to store the Fibonacci numbers up to n.\n",
    "    Use a bottom-up approach where you start from the smallest Fibonacci numbers and work your way up to the desired n-th Fibonacci number.\n",
    "    Store each calculated Fibonacci number in the array so you can reuse them, avoiding redundant calculations."
   ]
  },
  {
   "cell_type": "code",
   "execution_count": 13,
   "id": "107efda1",
   "metadata": {
    "execution": {
     "iopub.execute_input": "2024-10-04T08:02:00.860937Z",
     "iopub.status.busy": "2024-10-04T08:02:00.860019Z",
     "iopub.status.idle": "2024-10-04T08:02:00.869238Z",
     "shell.execute_reply": "2024-10-04T08:02:00.867599Z"
    },
    "papermill": {
     "duration": 0.022159,
     "end_time": "2024-10-04T08:02:00.871681",
     "exception": false,
     "start_time": "2024-10-04T08:02:00.849522",
     "status": "completed"
    },
    "tags": []
   },
   "outputs": [
    {
     "name": "stdout",
     "output_type": "stream",
     "text": [
      "The 9th Fibonacci number is: 34\n"
     ]
    }
   ],
   "source": [
    "def fib_dp(n):\n",
    "    # Create an array to store Fibonacci numbers\n",
    "    fib = [0] * (n + 1)\n",
    "    \n",
    "    # Base cases\n",
    "    fib[0] = 0\n",
    "    if n > 0:\n",
    "        fib[1] = 1\n",
    "    \n",
    "    # Fill the array using the Fibonacci formula\n",
    "    for i in range(2, n + 1):\n",
    "        fib[i] = fib[i - 1] + fib[i - 2]\n",
    "    \n",
    "    # Return the nth Fibonacci number\n",
    "    return fib[n]\n",
    "\n",
    "# Example usage\n",
    "n = 9\n",
    "print(f\"The {n}th Fibonacci number is: {fib_dp(n)}\")\n"
   ]
  },
  {
   "cell_type": "markdown",
   "id": "80a459e9",
   "metadata": {
    "papermill": {
     "duration": 0.007984,
     "end_time": "2024-10-04T08:02:00.888297",
     "exception": false,
     "start_time": "2024-10-04T08:02:00.880313",
     "status": "completed"
    },
    "tags": []
   },
   "source": [
    "#### Summary:\n",
    "\n",
    "    fib = [0] * (n + 1) creates a list of size n + 1, with all values initialized to 0.\n",
    "    The list is used to store Fibonacci numbers from fib[0] to fib[n], and n + 1 ensures that we have enough space for all the Fibonacci numbers."
   ]
  },
  {
   "cell_type": "code",
   "execution_count": null,
   "id": "d2abc291",
   "metadata": {
    "papermill": {
     "duration": 0.007914,
     "end_time": "2024-10-04T08:02:00.904557",
     "exception": false,
     "start_time": "2024-10-04T08:02:00.896643",
     "status": "completed"
    },
    "tags": []
   },
   "outputs": [],
   "source": []
  }
 ],
 "metadata": {
  "kaggle": {
   "accelerator": "none",
   "dataSources": [],
   "dockerImageVersionId": 30786,
   "isGpuEnabled": false,
   "isInternetEnabled": true,
   "language": "python",
   "sourceType": "notebook"
  },
  "kernelspec": {
   "display_name": "Python 3",
   "language": "python",
   "name": "python3"
  },
  "language_info": {
   "codemirror_mode": {
    "name": "ipython",
    "version": 3
   },
   "file_extension": ".py",
   "mimetype": "text/x-python",
   "name": "python",
   "nbconvert_exporter": "python",
   "pygments_lexer": "ipython3",
   "version": "3.10.14"
  },
  "papermill": {
   "default_parameters": {},
   "duration": 4.153623,
   "end_time": "2024-10-04T08:02:01.334846",
   "environment_variables": {},
   "exception": null,
   "input_path": "__notebook__.ipynb",
   "output_path": "__notebook__.ipynb",
   "parameters": {},
   "start_time": "2024-10-04T08:01:57.181223",
   "version": "2.6.0"
  }
 },
 "nbformat": 4,
 "nbformat_minor": 5
}
