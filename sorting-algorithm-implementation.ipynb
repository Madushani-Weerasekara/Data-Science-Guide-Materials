{
 "cells": [
  {
   "cell_type": "markdown",
   "metadata": {},
   "source": [
    "# Bubble Sort Implementation"
   ]
  },
  {
   "cell_type": "code",
   "execution_count": 9,
   "metadata": {},
   "outputs": [
    {
     "name": "stdout",
     "output_type": "stream",
     "text": [
      "Sorted array is [12, 21, 22, 36, 45, 78, 100]\n"
     ]
    }
   ],
   "source": [
    "def bubbleSort(arr):\n",
    "    n = len(arr)\n",
    "    for i in range(n):\n",
    "        for j in range(n-i-1):\n",
    "            if arr[j] > arr[j+1]:\n",
    "                arr[j], arr[j+1] = arr[j+1], arr[j]\n",
    "\n",
    "# Example usage\n",
    "arr = [78,21,45,36,100,22,12]\n",
    "bubbleSort(arr)\n",
    "print(\"Sorted array is\", arr)"
   ]
  },
  {
   "cell_type": "markdown",
   "metadata": {},
   "source": [
    "# Seletion Sort Implementation"
   ]
  },
  {
   "cell_type": "code",
   "execution_count": 10,
   "metadata": {},
   "outputs": [
    {
     "name": "stdout",
     "output_type": "stream",
     "text": [
      "Sorted array is [1, 2, 3, 4, 5, 7, 8, 9]\n"
     ]
    }
   ],
   "source": [
    "def selectionSort(arr):\n",
    "    n = len(arr)\n",
    "    for i in range(n):\n",
    "        min_index = i\n",
    "        for j in range(i+1, n):\n",
    "            if arr[min_index] > arr[j]:\n",
    "                min_index = j\n",
    "        arr[i], arr[min_index] = arr[min_index], arr[i]\n",
    "\n",
    "# Example usage\n",
    "arr = [8,2,4,9,7,3,1,5]\n",
    "selectionSort(arr)\n",
    "print(\"Sorted array is\", arr)"
   ]
  },
  {
   "cell_type": "markdown",
   "metadata": {},
   "source": [
    "# Insertion Sort implementation\n",
    "\n",
    "## Overview of Insertion Sort\n",
    "\n",
    "Insertion Sort works by building a sorted section of the array step by step. At each iteration:\n",
    "\n",
    "    It takes the current element (called the key).\n",
    "    Compares it with elements in the already sorted part of the array.\n",
    "    Moves elements larger than the key to the right to make space for the key.\n",
    "    Inserts the key in the correct position in the sorted part.\n",
    "\n",
    "## Key Points\n",
    "\n",
    "    The algorithm sorts the array \"in-place\" without using additional space.\n",
    "    The sorted portion grows as we iterate through the array.\n",
    "    The inner loop is responsible for finding the correct position for the key and shifting larger elements to the right."
   ]
  },
  {
   "cell_type": "code",
   "execution_count": 11,
   "metadata": {},
   "outputs": [
    {
     "name": "stdout",
     "output_type": "stream",
     "text": [
      "Before Sorting: [8, 2, 7, 3, 6, 4, 1]\n",
      "After Sorting: [1, 2, 3, 4, 6, 7, 8]\n"
     ]
    }
   ],
   "source": [
    "def insertionSort(arr):\n",
    "    n =len(arr)\n",
    "    for i in range(1, n): # start with i=1, from 2nd index of the arr, bcz we assume 1st elemnt is sorted initially\n",
    "        key = arr[i] # We take the 2n element of the array as the key initialliy and 34d, 4th etc.\n",
    "        # j= last element of the sorted array\n",
    "        j = i-1 # Now we have to compare i with the element of the sorted list,thus we select j as the element of the sorted list\n",
    "        while j>=0 and key < arr[j]: # If j is greater than key, move forward to right\n",
    "            arr[j+1] = arr[j] # Move to right of the array\n",
    "            j =j-1 # allows us to continue comparing the key with earlier elements in the array\n",
    "        arr[j+1] = key # Insert the key at the correct position\n",
    "\n",
    "# example usage\n",
    "arr = [8,2,7,3,6,4,1]\n",
    "print(\"Before Sorting: {}\".format(arr))\n",
    "insertionSort(arr)\n",
    "print(\"After Sorting: {}\".format(arr))"
   ]
  },
  {
   "cell_type": "markdown",
   "metadata": {},
   "source": [
    "# Quick Sort Implementation"
   ]
  },
  {
   "cell_type": "code",
   "execution_count": 16,
   "metadata": {},
   "outputs": [
    {
     "name": "stdout",
     "output_type": "stream",
     "text": [
      "Before Sorting: [9, 12, 2, 6, 8, 1, 7, 14, 3]\n",
      "After Sorting: [1, 2, 3, 6, 7, 8, 9, 12, 14]\n"
     ]
    }
   ],
   "source": [
    "def partition(arr, lb, ub): # lb=lower bound , ub=Upper bound\n",
    "    pivot = arr[lb] # First element of the array\n",
    "    start = lb+1 # Pointer to start searching from the second element\n",
    "    end = ub\n",
    "    while True:\n",
    "        while start <= end and arr[start] <= pivot:\n",
    "            start += 1\n",
    "\n",
    "        while start <= end and arr[end] > pivot:\n",
    "            end -= 1\n",
    "\n",
    "        if start < end:\n",
    "            arr[start], arr[end] = arr[end], arr[start]\n",
    "\n",
    "        else:\n",
    "            break\n",
    "    arr[lb], arr[end] = arr[end], arr[lb]\n",
    "    return end # Element which partition the array\n",
    "\n",
    "def quickSort(arr, start, end):\n",
    "    if start >= end:\n",
    "        return\n",
    "    k = partition(arr, start, end) # Partition by k\n",
    "    quickSort(arr,  start, k-1)\n",
    "    quickSort(arr, k+1, end)\n",
    "\n",
    "data = [9, 12,2,6,8,1,7,14,3]\n",
    "print(\"Before Sorting: {}\".format(data))\n",
    "\n",
    "lb = 0 # Zero th index is the lower bound\n",
    "ub = len(data)-1 # bcz indexing start from zero and go upto last element\n",
    "quickSort(data, lb, ub)\n",
    "print(\"After Sorting: {}\".format(data))\n",
    "\n"
   ]
  },
  {
   "cell_type": "markdown",
   "metadata": {},
   "source": [
    "# Merge Sort Implementation\n"
   ]
  },
  {
   "cell_type": "code",
   "execution_count": 4,
   "metadata": {},
   "outputs": [
    {
     "name": "stdout",
     "output_type": "stream",
     "text": [
      "Original array: [38, 27, 43, 3, 9, 82, 10]\n",
      "Sorted array: [3, 9, 10, 27, 38, 43, 82]\n"
     ]
    }
   ],
   "source": [
    "def mergeSort(arr):\n",
    "    \"\"\"\n",
    "    Recursively splits the array into halves, sorts them, and merges the sorted halves.\n",
    "    :param arr: List of elements to be sorted\n",
    "    \"\"\"\n",
    "\n",
    "    # Base case: If the array has 1 or no elements, it's already sorted.\n",
    "    if len(arr) <= 1:\n",
    "        return arr\n",
    "    \n",
    "    # Find the mid point to split the array into two halves\n",
    "    mid_point = len(arr)//2\n",
    "\n",
    "    # Recursively split and sort the left and right halves.\n",
    "    left_arr = mergeSort(arr[:mid_point])\n",
    "    right_arr = mergeSort(arr[mid_point:])\n",
    "\n",
    "    # Merge the sorted halves into a single sorted array.\n",
    "    return merge(left_arr, right_arr)\n",
    "\n",
    "def merge(left, right):\n",
    "    \"\"\"\n",
    "    Merges two sorted arrays into one sorted array.\n",
    "    :param left: The first sorted array\n",
    "    :param right: The second sorted array\n",
    "    :return: A merged and sorted array\n",
    "    \"\"\"\n",
    "    # Initialize pointers for both arrays and a list to store the merged result.\n",
    "    merged_arr =[]\n",
    "    left_arr_index = right_arr_index = 0\n",
    "\n",
    "    # Compare elements from both arrays and add the smaller element to the merged list.\n",
    "    while left_arr_index < len(left) and right_arr_index < len(right):\n",
    "        if left[left_arr_index] < right[right_arr_index]:\n",
    "            merged_arr.append(left[left_arr_index])\n",
    "            left_arr_index += 1\n",
    "\n",
    "        else:\n",
    "            merged_arr.append(right[right_arr_index])\n",
    "            right_arr_index += 1\n",
    "\n",
    "    # Append any remaining elements from the left array (if any).\n",
    "    while left_arr_index < len(left):\n",
    "        merged_arr.append(left[left_arr_index])\n",
    "        left_arr_index += 1\n",
    "\n",
    "    # Append any remaining elements from the right array (if any).\n",
    "    while right_arr_index < len(right):\n",
    "        merged_arr.append(right[right_arr_index])\n",
    "        right_arr_index += 1\n",
    "\n",
    "    # Return the merged and sorted array.\n",
    "    return merged_arr\n",
    "\n",
    "# Example usage\n",
    "if __name__ == \"__main__\":\n",
    "    # Example array\n",
    "    example_arr = [38, 27, 43, 3, 9, 82, 10]\n",
    "\n",
    "    # Perform merge sort\n",
    "    sorted_arr = mergeSort(example_arr)\n",
    "\n",
    "    print(\"Original array: {}\".format(example_arr))\n",
    "    print(\"Sorted array: {}\".format(sorted_arr))\n",
    "       "
   ]
  },
  {
   "cell_type": "code",
   "execution_count": null,
   "metadata": {},
   "outputs": [],
   "source": []
  }
 ],
 "metadata": {
  "kernelspec": {
   "display_name": "base",
   "language": "python",
   "name": "python3"
  },
  "language_info": {
   "codemirror_mode": {
    "name": "ipython",
    "version": 3
   },
   "file_extension": ".py",
   "mimetype": "text/x-python",
   "name": "python",
   "nbconvert_exporter": "python",
   "pygments_lexer": "ipython3",
   "version": "3.12.3"
  }
 },
 "nbformat": 4,
 "nbformat_minor": 2
}
