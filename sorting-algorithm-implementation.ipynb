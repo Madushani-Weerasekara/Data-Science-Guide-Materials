{
 "cells": [
  {
   "cell_type": "markdown",
   "metadata": {},
   "source": [
    "# Bubble Sort Implementation"
   ]
  },
  {
   "cell_type": "code",
   "execution_count": 6,
   "metadata": {},
   "outputs": [
    {
     "name": "stdout",
     "output_type": "stream",
     "text": [
      "Sorted array is [12, 21, 22, 36, 45, 78, 100]\n"
     ]
    }
   ],
   "source": [
    "def bubbleSort(arr):\n",
    "    n = len(arr)\n",
    "    for i in range(n):\n",
    "        for j in range(n-i-1):\n",
    "            if arr[j] > arr[j+1]:\n",
    "                arr[j], arr[j+1] = arr[j+1], arr[j]\n",
    "\n",
    "# Example usage\n",
    "arr = [78,21,45,36,100,22,12]\n",
    "bubbleSort(arr)\n",
    "print(\"Sorted array is\", arr)"
   ]
  },
  {
   "cell_type": "markdown",
   "metadata": {},
   "source": [
    "# Seletion Sort Implementation"
   ]
  },
  {
   "cell_type": "code",
   "execution_count": 7,
   "metadata": {},
   "outputs": [
    {
     "name": "stdout",
     "output_type": "stream",
     "text": [
      "Sorted array is [1, 2, 3, 4, 5, 7, 8, 9]\n"
     ]
    }
   ],
   "source": [
    "def selectionSort(arr):\n",
    "    n = len(arr)\n",
    "    for i in range(n):\n",
    "        min_index = i\n",
    "        for j in range(i+1, n):\n",
    "            if arr[min_index] > arr[j]:\n",
    "                min_index = j\n",
    "        arr[i], arr[min_index] = arr[min_index], arr[i]\n",
    "\n",
    "# Example usage\n",
    "arr = [8,2,4,9,7,3,1,5]\n",
    "selectionSort(arr)\n",
    "print(\"Sorted array is\", arr)"
   ]
  },
  {
   "cell_type": "markdown",
   "metadata": {},
   "source": [
    "# Insertion Sort implementation\n",
    "\n",
    "## Overview of Insertion Sort\n",
    "\n",
    "Insertion Sort works by building a sorted section of the array step by step. At each iteration:\n",
    "\n",
    "    It takes the current element (called the key).\n",
    "    Compares it with elements in the already sorted part of the array.\n",
    "    Moves elements larger than the key to the right to make space for the key.\n",
    "    Inserts the key in the correct position in the sorted part.\n",
    "\n",
    "## Key Points\n",
    "\n",
    "    The algorithm sorts the array \"in-place\" without using additional space.\n",
    "    The sorted portion grows as we iterate through the array.\n",
    "    The inner loop is responsible for finding the correct position for the key and shifting larger elements to the right."
   ]
  },
  {
   "cell_type": "code",
   "execution_count": 8,
   "metadata": {},
   "outputs": [
    {
     "name": "stdout",
     "output_type": "stream",
     "text": [
      "Before Sorting: [8, 2, 7, 3, 6, 4, 1]\n",
      "After Sorting: [1, 2, 3, 4, 6, 7, 8]\n"
     ]
    }
   ],
   "source": [
    "def insertionSort(arr):\n",
    "    n =len(arr)\n",
    "    for i in range(1, n): # start with i=1, from 2nd index of the arr, bcz we assume 1st elemnt is sorted initially\n",
    "        key = arr[i] # We take the 2n element of the array as the key initialliy and 34d, 4th etc.\n",
    "        # j= last element of the sorted array\n",
    "        j = i-1 # Now we have to compare i with the element of the sorted list,thus we select j as the element of the sorted list\n",
    "        while j>=0 and key < arr[j]: # If j is greater than key, move forward to right\n",
    "            arr[j+1] = arr[j] # Move to right of the array\n",
    "            j =j-1 # allows us to continue comparing the key with earlier elements in the array\n",
    "        arr[j+1] = key # Insert the key at the correct position\n",
    "\n",
    "# example usage\n",
    "arr = [8,2,7,3,6,4,1]\n",
    "print(\"Before Sorting: {}\".format(arr))\n",
    "insertionSort(arr)\n",
    "print(\"After Sorting: {}\".format(arr))"
   ]
  },
  {
   "cell_type": "code",
   "execution_count": null,
   "metadata": {},
   "outputs": [],
   "source": []
  }
 ],
 "metadata": {
  "kernelspec": {
   "display_name": "base",
   "language": "python",
   "name": "python3"
  },
  "language_info": {
   "codemirror_mode": {
    "name": "ipython",
    "version": 3
   },
   "file_extension": ".py",
   "mimetype": "text/x-python",
   "name": "python",
   "nbconvert_exporter": "python",
   "pygments_lexer": "ipython3",
   "version": "3.12.3"
  }
 },
 "nbformat": 4,
 "nbformat_minor": 2
}
